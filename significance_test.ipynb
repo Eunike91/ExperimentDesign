{
 "cells": [
  {
   "cell_type": "code",
   "execution_count": 2,
   "metadata": {},
   "outputs": [],
   "source": [
    "import scipy.stats as stats"
   ]
  },
  {
   "cell_type": "code",
   "execution_count": 3,
   "metadata": {},
   "outputs": [],
   "source": [
    "o_cmn1 = [0.6692, 0.7809, 0.5213, 0.5575]\n",
    "n_cmn1 = [0.4806, 0.6293, 0.4031, 0.4401]\n",
    "\n",
    "o_cmn2 = [0.7959, 0.8921, 0.6185, 0.6500]\n",
    "n_cmn2 = [0.7953, 0.8930, 0.6252, 0.6570]\n",
    "\n",
    "o_cmn3 = [0.7932, 0.8901, 0.6234, 0.6551]\n",
    "n_cmn3 = [0.7970, 0.8944, 0.6279, 0.6599]"
   ]
  },
  {
   "cell_type": "code",
   "execution_count": 7,
   "metadata": {},
   "outputs": [
    {
     "data": {
      "text/plain": [
       "Ttest_indResult(statistic=1.8729830013517323, pvalue=0.11022206585475854)"
      ]
     },
     "execution_count": 7,
     "metadata": {},
     "output_type": "execute_result"
    }
   ],
   "source": [
    "stats.ttest_ind(a = o_cmn1 , b = n_cmn1)"
   ]
  },
  {
   "cell_type": "code",
   "execution_count": 8,
   "metadata": {},
   "outputs": [
    {
     "data": {
      "text/plain": [
       "Ttest_indResult(statistic=-0.039207642471194314, pvalue=0.9699968683461793)"
      ]
     },
     "execution_count": 8,
     "metadata": {},
     "output_type": "execute_result"
    }
   ],
   "source": [
    "stats.ttest_ind(a = o_cmn2 , b = n_cmn2)"
   ]
  },
  {
   "cell_type": "code",
   "execution_count": 9,
   "metadata": {},
   "outputs": [
    {
     "data": {
      "text/plain": [
       "Ttest_indResult(statistic=-0.04964230455267181, pvalue=0.9620187248367235)"
      ]
     },
     "execution_count": 9,
     "metadata": {},
     "output_type": "execute_result"
    }
   ],
   "source": [
    "stats.ttest_ind(a = o_cmn3 , b = n_cmn3)"
   ]
  },
  {
   "cell_type": "code",
   "execution_count": null,
   "metadata": {},
   "outputs": [],
   "source": [
    "n_hrn_1=[0.6355611601513241,0.6460097279769411,0.6292559899117276,0.5889029003783102,0.7065393622770672,0.8326427670689965,0.8234552332912989,0.7832822914790127,0.7816609619888308]\n",
    "n_ndcgn_1=[0.44506277208822387,0.450375362268355,0.44006209232709415, 0.4096120009223258,0.47464007802445235,0.5866287500556093,0.5690862356972158,0.5167273604088787,0.5139079572716625]\n",
    "n_hrn_2= [0.8843451630336876, 0.8929922536479914,0.8946135831381733,0.8893892992253648,0.8888488560619708,0.8856061970816069,0.8870473788506575,0.881823094937849,0.8706539362277067]\n",
    "n_ndcgn_2 = [0.6484178682009706,0.6673737032582733,0.6698267793270426,0.6702927432320331,0.667123486995304,0.6687506021322229,0.6702963955231037,0.6661317188204213,0.6491035782887439]\n",
    "n_hrn_3 = [0.893892992253648,0.8960547649072239,0.8911907764366781,0.8899297423887588,0.882903981264637,0.8857863448027382,0.8838047198702936,0.8825436858223743,0.8825436858223743]\n",
    "n_ndcgn_3 = [0.6636717425796074,0.6713418948351301,0.6672514149747032,0.6680494432426701,0.667849154885911,0.6678676897488102,0.6688451495673831,0.6668124604662851,0.6664027580139423]"
   ]
  }
 ],
 "metadata": {
  "kernelspec": {
   "display_name": "Python 3",
   "language": "python",
   "name": "python3"
  },
  "language_info": {
   "codemirror_mode": {
    "name": "ipython",
    "version": 3
   },
   "file_extension": ".py",
   "mimetype": "text/x-python",
   "name": "python",
   "nbconvert_exporter": "python",
   "pygments_lexer": "ipython3",
   "version": "3.9.1"
  }
 },
 "nbformat": 4,
 "nbformat_minor": 4
}
